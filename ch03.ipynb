{
 "cells": [
  {
   "cell_type": "markdown",
   "id": "96536be7-4ae6-4912-adc7-47ebcecfbd6f",
   "metadata": {},
   "source": [
    "# 3 Accessing and Managing Financial Data"
   ]
  },
  {
   "cell_type": "markdown",
   "id": "ab8ebcce-da1f-492d-b035-bb13d87525f9",
   "metadata": {},
   "source": [
    "## 3.1 Fama-French Data"
   ]
  },
  {
   "cell_type": "markdown",
   "id": "61ff20d5-b3be-4b95-96fa-2760e24ca521",
   "metadata": {},
   "source": [
    "The monthly Fama-French factors can be downloaded with the `DataReader()` function of the package `pandas_datareader`:"
   ]
  },
  {
   "cell_type": "code",
   "execution_count": 35,
   "id": "afd11a83-1faa-4ee0-827a-a0950033319c",
   "metadata": {},
   "outputs": [
    {
     "name": "stderr",
     "output_type": "stream",
     "text": [
      "/tmp/ipykernel_168/2218092993.py:3: FutureWarning: The argument 'date_parser' is deprecated and will be removed in a future version. Please use 'date_format' instead, or read your data in as 'object' dtype and then call 'to_datetime'.\n",
      "  raw = pdr.DataReader(\n",
      "/tmp/ipykernel_168/2218092993.py:3: FutureWarning: The argument 'date_parser' is deprecated and will be removed in a future version. Please use 'date_format' instead, or read your data in as 'object' dtype and then call 'to_datetime'.\n",
      "  raw = pdr.DataReader(\n"
     ]
    },
    {
     "data": {
      "text/plain": [
       "{0:          Mkt-RF   SMB    HML    RF\n",
       " Date                              \n",
       " 2019-08   -2.58 -2.39  -4.79  0.16\n",
       " 2019-09    1.43 -0.96   6.75  0.18\n",
       " 2019-10    2.06  0.30  -1.90  0.16\n",
       " 2019-11    3.88  0.79  -2.01  0.12\n",
       " 2019-12    2.77  0.74   1.77  0.14\n",
       " 2020-01   -0.11 -3.12  -6.28  0.13\n",
       " 2020-02   -8.13  1.07  -3.80  0.12\n",
       " 2020-03  -13.38 -4.82 -13.83  0.13\n",
       " 2020-04   13.65  2.46  -1.34  0.00\n",
       " 2020-05    5.58  2.49  -4.86  0.01\n",
       " 2020-06    2.46  2.69  -2.21  0.01\n",
       " 2020-07    5.77 -2.31  -1.41  0.01\n",
       " 2020-08    7.63 -0.24  -2.97  0.01\n",
       " 2020-09   -3.63  0.02  -2.70  0.01\n",
       " 2020-10   -2.10  4.38   4.23  0.01\n",
       " 2020-11   12.47  5.80   2.06  0.01\n",
       " 2020-12    4.63  4.88  -1.51  0.01\n",
       " 2021-01   -0.03  7.37   3.04  0.01\n",
       " 2021-02    2.78  2.06   7.09  0.00\n",
       " 2021-03    3.08 -2.36   7.40  0.00\n",
       " 2021-04    4.93 -3.19  -0.97  0.00\n",
       " 2021-05    0.29 -0.21   7.08  0.00\n",
       " 2021-06    2.75  1.66  -7.84  0.00\n",
       " 2021-07    1.27 -3.97  -1.84  0.00\n",
       " 2021-08    2.91 -0.41  -0.19  0.00\n",
       " 2021-09   -4.37  0.68   5.15  0.00\n",
       " 2021-10    6.65 -2.35  -0.45  0.00\n",
       " 2021-11   -1.55 -1.31  -0.44  0.00\n",
       " 2021-12    3.10 -1.68   3.25  0.01\n",
       " 2022-01   -6.25 -5.95  12.88  0.00\n",
       " 2022-02   -2.29  2.20   3.11  0.00\n",
       " 2022-03    3.05 -1.62  -1.81  0.01\n",
       " 2022-04   -9.46 -1.39   6.20  0.01\n",
       " 2022-05   -0.34 -1.84   8.48  0.03\n",
       " 2022-06   -8.43  2.10  -6.01  0.06\n",
       " 2022-07    9.57  2.80  -4.05  0.08\n",
       " 2022-08   -3.77  1.40   0.29  0.19\n",
       " 2022-09   -9.35 -0.82   0.05  0.19\n",
       " 2022-10    7.83  0.07   8.02  0.23\n",
       " 2022-11    4.60 -3.50   1.38  0.29\n",
       " 2022-12   -6.41 -0.70   1.36  0.33\n",
       " 2023-01    6.65  5.00  -4.02  0.35\n",
       " 2023-02   -2.58  1.17  -0.80  0.34\n",
       " 2023-03    2.51 -5.52  -8.87  0.36\n",
       " 2023-04    0.61 -3.35  -0.05  0.35\n",
       " 2023-05    0.35  1.60  -7.72  0.36\n",
       " 2023-06    6.46  1.54  -0.25  0.40\n",
       " 2023-07    3.21  2.07   4.09  0.45\n",
       " 2023-08   -2.39 -3.12  -1.12  0.45\n",
       " 2023-09   -5.24 -2.49   1.51  0.43\n",
       " 2023-10   -3.18 -3.86   0.17  0.47\n",
       " 2023-11    8.84 -0.01   1.61  0.44\n",
       " 2023-12    4.87  6.34   4.93  0.43\n",
       " 2024-01    0.70 -5.10  -2.33  0.47\n",
       " 2024-02    5.06 -0.16  -3.54  0.42\n",
       " 2024-03    2.83 -2.46   4.16  0.43\n",
       " 2024-04   -4.67 -2.34  -0.54  0.47\n",
       " 2024-05    4.34  0.61  -1.37  0.44\n",
       " 2024-06    2.78 -3.02  -3.31  0.41,\n",
       " 1:       Mkt-RF    SMB    HML    RF\n",
       " Date                            \n",
       " 2019   28.28  -6.10 -10.41  2.15\n",
       " 2020   23.66  13.20 -46.69  0.45\n",
       " 2021   23.56  -3.86  25.46  0.04\n",
       " 2022  -21.60  -6.97  26.07  1.43\n",
       " 2023   21.70  -3.17 -13.80  4.95,\n",
       " 'DESCR': 'F-F Research Data Factors\\n-------------------------\\n\\nThis file was created by CMPT_ME_BEME_RETS using the 202406 CRSP database. The 1-month TBill rate data until 202405 are from Ibbotson Associates. Starting from 202406, the 1-month TBill rate is from ICE BofA US 1-Month Treasury Bill Index. Copyright 2024 Kenneth R. French\\n\\n  0 : (59 rows x 4 cols)\\n  1 : Annual Factors: January-December (5 rows x 4 cols)'}"
      ]
     },
     "execution_count": 35,
     "metadata": {},
     "output_type": "execute_result"
    }
   ],
   "source": [
    "import pandas_datareader.data as pdr\n",
    "\n",
    "raw = pdr.DataReader(\n",
    "    name=\"F-F_Research_Data_Factors\",\n",
    "    data_source=\"famafrench\"\n",
    ")\n",
    "\n",
    "raw"
   ]
  },
  {
   "cell_type": "code",
   "execution_count": null,
   "id": "4042c283-d8ba-48fc-b8a7-e3b019809b44",
   "metadata": {},
   "outputs": [],
   "source": []
  }
 ],
 "metadata": {
  "kernelspec": {
   "display_name": "Python 3 (ipykernel)",
   "language": "python",
   "name": "python3"
  },
  "language_info": {
   "codemirror_mode": {
    "name": "ipython",
    "version": 3
   },
   "file_extension": ".py",
   "mimetype": "text/x-python",
   "name": "python",
   "nbconvert_exporter": "python",
   "pygments_lexer": "ipython3",
   "version": "3.10.11"
  }
 },
 "nbformat": 4,
 "nbformat_minor": 5
}
